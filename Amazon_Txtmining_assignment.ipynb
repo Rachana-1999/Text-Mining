{
 "cells": [
  {
   "cell_type": "code",
   "execution_count": 49,
   "metadata": {
    "ExecuteTime": {
     "end_time": "2021-01-24T06:25:49.534400Z",
     "start_time": "2021-01-24T06:25:49.517399Z"
    }
   },
   "outputs": [],
   "source": [
    "import numpy as np # linear algebra\n",
    "import pandas as pd # data processing, CSV file I/O \n",
    "import string # special operations on strings\n",
    "import spacy # language models\n",
    "\n",
    "from matplotlib.pyplot import imread\n",
    "from matplotlib import pyplot as plt\n",
    "from wordcloud import WordCloud\n",
    "%matplotlib inline "
   ]
  },
  {
   "cell_type": "code",
   "execution_count": 28,
   "metadata": {
    "ExecuteTime": {
     "end_time": "2021-01-24T05:37:47.899115Z",
     "start_time": "2021-01-24T05:37:47.878114Z"
    }
   },
   "outputs": [
    {
     "data": {
      "text/plain": [
       "(2477, 2)"
      ]
     },
     "execution_count": 28,
     "metadata": {},
     "output_type": "execute_result"
    }
   ],
   "source": [
    "afinn = pd.read_csv('Afinn.csv', sep=',', encoding='latin-1')\n",
    "afinn.shape "
   ]
  },
  {
   "cell_type": "code",
   "execution_count": 29,
   "metadata": {
    "ExecuteTime": {
     "end_time": "2021-01-24T05:37:51.381314Z",
     "start_time": "2021-01-24T05:37:51.304310Z"
    }
   },
   "outputs": [
    {
     "data": {
      "text/html": [
       "<div>\n",
       "<style scoped>\n",
       "    .dataframe tbody tr th:only-of-type {\n",
       "        vertical-align: middle;\n",
       "    }\n",
       "\n",
       "    .dataframe tbody tr th {\n",
       "        vertical-align: top;\n",
       "    }\n",
       "\n",
       "    .dataframe thead th {\n",
       "        text-align: right;\n",
       "    }\n",
       "</style>\n",
       "<table border=\"1\" class=\"dataframe\">\n",
       "  <thead>\n",
       "    <tr style=\"text-align: right;\">\n",
       "      <th></th>\n",
       "      <th>asin</th>\n",
       "      <th>product_title</th>\n",
       "      <th>average_rating</th>\n",
       "      <th>review_author</th>\n",
       "      <th>reviewed_product_attribute</th>\n",
       "      <th>review_rating</th>\n",
       "      <th>review_date</th>\n",
       "      <th>reviewed_country</th>\n",
       "      <th>review_text</th>\n",
       "      <th>review_comment_count</th>\n",
       "      <th>review_header</th>\n",
       "      <th>no_of_people_reacted_helpful</th>\n",
       "      <th>author_profile_url</th>\n",
       "      <th>url</th>\n",
       "      <th>brand</th>\n",
       "      <th>review_url</th>\n",
       "    </tr>\n",
       "  </thead>\n",
       "  <tbody>\n",
       "    <tr>\n",
       "      <th>0</th>\n",
       "      <td>B07YQ58NPF</td>\n",
       "      <td>Xiaomi Redmi Note 8 Pro 128GB Hybrid Dual-SIM ...</td>\n",
       "      <td>4.6</td>\n",
       "      <td>Amazon Customer</td>\n",
       "      <td>Color: Gray | Size: 128 GB</td>\n",
       "      <td>5.0</td>\n",
       "      <td>November 24, 2019</td>\n",
       "      <td>United States</td>\n",
       "      <td>Muy buen equipo, viene el cargador de corrient...</td>\n",
       "      <td>NaN</td>\n",
       "      <td>Excelente funcionamiento</td>\n",
       "      <td>1.0</td>\n",
       "      <td>https://www.amazon.com/gp/profile/amzn1.accoun...</td>\n",
       "      <td>https://www.amazon.com/product-reviews/B07YQ58...</td>\n",
       "      <td>Xiaomi</td>\n",
       "      <td>https://www.amazon.com/gp/customer-reviews/RDP...</td>\n",
       "    </tr>\n",
       "    <tr>\n",
       "      <th>1</th>\n",
       "      <td>B07YQ58NPF</td>\n",
       "      <td>Xiaomi Redmi Note 8 Pro 128GB Hybrid Dual-SIM ...</td>\n",
       "      <td>4.6</td>\n",
       "      <td>stuard n.</td>\n",
       "      <td>Color: Gray | Size: 128 GB</td>\n",
       "      <td>5.0</td>\n",
       "      <td>February 26, 2020</td>\n",
       "      <td>United States</td>\n",
       "      <td>This phone is amazing as far as the graphic de...</td>\n",
       "      <td>NaN</td>\n",
       "      <td>Worth a buy in comparison to other phones of t...</td>\n",
       "      <td>1.0</td>\n",
       "      <td>https://www.amazon.com/gp/profile/amzn1.accoun...</td>\n",
       "      <td>https://www.amazon.com/product-reviews/B07YQ58...</td>\n",
       "      <td>Xiaomi</td>\n",
       "      <td>https://www.amazon.com/gp/customer-reviews/R2U...</td>\n",
       "    </tr>\n",
       "    <tr>\n",
       "      <th>2</th>\n",
       "      <td>B07YQ58NPF</td>\n",
       "      <td>Xiaomi Redmi Note 8 Pro 128GB Hybrid Dual-SIM ...</td>\n",
       "      <td>4.6</td>\n",
       "      <td>Brook</td>\n",
       "      <td>Color: Gray | Size: 128 GB</td>\n",
       "      <td>3.0</td>\n",
       "      <td>January 03, 2020</td>\n",
       "      <td>United States</td>\n",
       "      <td>I just found out that although the Redmi LTE i...</td>\n",
       "      <td>NaN</td>\n",
       "      <td>REDMI NOTE 8 PRO &amp; 4G LTE</td>\n",
       "      <td>16.0</td>\n",
       "      <td>https://www.amazon.com/gp/profile/amzn1.accoun...</td>\n",
       "      <td>https://www.amazon.com/product-reviews/B07YQ58...</td>\n",
       "      <td>Xiaomi</td>\n",
       "      <td>https://www.amazon.com/gp/customer-reviews/R2D...</td>\n",
       "    </tr>\n",
       "  </tbody>\n",
       "</table>\n",
       "</div>"
      ],
      "text/plain": [
       "         asin                                      product_title  \\\n",
       "0  B07YQ58NPF  Xiaomi Redmi Note 8 Pro 128GB Hybrid Dual-SIM ...   \n",
       "1  B07YQ58NPF  Xiaomi Redmi Note 8 Pro 128GB Hybrid Dual-SIM ...   \n",
       "2  B07YQ58NPF  Xiaomi Redmi Note 8 Pro 128GB Hybrid Dual-SIM ...   \n",
       "\n",
       "   average_rating    review_author  reviewed_product_attribute  review_rating  \\\n",
       "0             4.6  Amazon Customer  Color: Gray | Size: 128 GB            5.0   \n",
       "1             4.6        stuard n.  Color: Gray | Size: 128 GB            5.0   \n",
       "2             4.6            Brook  Color: Gray | Size: 128 GB            3.0   \n",
       "\n",
       "         review_date reviewed_country  \\\n",
       "0  November 24, 2019    United States   \n",
       "1  February 26, 2020    United States   \n",
       "2   January 03, 2020    United States   \n",
       "\n",
       "                                         review_text  review_comment_count  \\\n",
       "0  Muy buen equipo, viene el cargador de corrient...                   NaN   \n",
       "1  This phone is amazing as far as the graphic de...                   NaN   \n",
       "2  I just found out that although the Redmi LTE i...                   NaN   \n",
       "\n",
       "                                       review_header  \\\n",
       "0                           Excelente funcionamiento   \n",
       "1  Worth a buy in comparison to other phones of t...   \n",
       "2                          REDMI NOTE 8 PRO & 4G LTE   \n",
       "\n",
       "   no_of_people_reacted_helpful  \\\n",
       "0                           1.0   \n",
       "1                           1.0   \n",
       "2                          16.0   \n",
       "\n",
       "                                  author_profile_url  \\\n",
       "0  https://www.amazon.com/gp/profile/amzn1.accoun...   \n",
       "1  https://www.amazon.com/gp/profile/amzn1.accoun...   \n",
       "2  https://www.amazon.com/gp/profile/amzn1.accoun...   \n",
       "\n",
       "                                                 url   brand  \\\n",
       "0  https://www.amazon.com/product-reviews/B07YQ58...  Xiaomi   \n",
       "1  https://www.amazon.com/product-reviews/B07YQ58...  Xiaomi   \n",
       "2  https://www.amazon.com/product-reviews/B07YQ58...  Xiaomi   \n",
       "\n",
       "                                          review_url  \n",
       "0  https://www.amazon.com/gp/customer-reviews/RDP...  \n",
       "1  https://www.amazon.com/gp/customer-reviews/R2U...  \n",
       "2  https://www.amazon.com/gp/customer-reviews/R2D...  "
      ]
     },
     "execution_count": 29,
     "metadata": {},
     "output_type": "execute_result"
    }
   ],
   "source": [
    "redmi = pd.read_csv('ReviewDetails.csv')\n",
    "redmi.head(3)"
   ]
  },
  {
   "cell_type": "code",
   "execution_count": 30,
   "metadata": {
    "ExecuteTime": {
     "end_time": "2021-01-24T05:37:52.277366Z",
     "start_time": "2021-01-24T05:37:52.151358Z"
    }
   },
   "outputs": [
    {
     "data": {
      "text/plain": [
       "['My only qualm is whether the price is justifiable, as the battery seems to drain sooner than some of my other, cheaper yet just as capable phones.',\n",
       " \"I just found out that although the Redmi LTE is a 4G LTE phone , it isn't compatible with Extended Range LTE & Voice Over LTE!\",\n",
       " \"So I can't use the phone's full capacity with the t-mobile network in the US.\",\n",
       " \"What does Xiaomi mean by 4G LTE if the Redmi Note 8 PRO isn't compatible with the above network ?\",\n",
       " 'Really disappointed !',\n",
       " 'Excellent phone, very nice photos, battery long life and a lot of good things.',\n",
       " 'I recommend it.',\n",
       " 'Great phone.',\n",
       " 'Negatives are strangeness of the miui for someone used to \"standard\" Android, and huge amount of BLOATWARE and ads due to Mi and Google duplication.',\n",
       " 'BLOATWARE and ads are reason for 4 Stars not 5.']"
      ]
     },
     "execution_count": 30,
     "metadata": {},
     "output_type": "execute_result"
    }
   ],
   "source": [
    "from nltk import tokenize\n",
    "sentences = tokenize.sent_tokenize(\" \".join(redmi.review_text))\n",
    "sentences[5:15] "
   ]
  },
  {
   "cell_type": "code",
   "execution_count": 31,
   "metadata": {
    "ExecuteTime": {
     "end_time": "2021-01-24T05:37:53.646444Z",
     "start_time": "2021-01-24T05:37:53.616442Z"
    }
   },
   "outputs": [
    {
     "data": {
      "text/html": [
       "<div>\n",
       "<style scoped>\n",
       "    .dataframe tbody tr th:only-of-type {\n",
       "        vertical-align: middle;\n",
       "    }\n",
       "\n",
       "    .dataframe tbody tr th {\n",
       "        vertical-align: top;\n",
       "    }\n",
       "\n",
       "    .dataframe thead th {\n",
       "        text-align: right;\n",
       "    }\n",
       "</style>\n",
       "<table border=\"1\" class=\"dataframe\">\n",
       "  <thead>\n",
       "    <tr style=\"text-align: right;\">\n",
       "      <th></th>\n",
       "      <th>sentence</th>\n",
       "    </tr>\n",
       "  </thead>\n",
       "  <tbody>\n",
       "    <tr>\n",
       "      <th>0</th>\n",
       "      <td>Muy buen equipo, viene el cargador de corrient...</td>\n",
       "    </tr>\n",
       "    <tr>\n",
       "      <th>1</th>\n",
       "      <td>This phone is amazing as far as the graphic de...</td>\n",
       "    </tr>\n",
       "    <tr>\n",
       "      <th>2</th>\n",
       "      <td>It is fast enough that most users will not com...</td>\n",
       "    </tr>\n",
       "    <tr>\n",
       "      <th>3</th>\n",
       "      <td>The camera is just as good as promoted.</td>\n",
       "    </tr>\n",
       "    <tr>\n",
       "      <th>4</th>\n",
       "      <td>the overall experience so far (two weeks into ...</td>\n",
       "    </tr>\n",
       "    <tr>\n",
       "      <th>...</th>\n",
       "      <td>...</td>\n",
       "    </tr>\n",
       "    <tr>\n",
       "      <th>725</th>\n",
       "      <td>Good phone, good performance, good battery life.</td>\n",
       "    </tr>\n",
       "    <tr>\n",
       "      <th>726</th>\n",
       "      <td>Would recommend it.</td>\n",
       "    </tr>\n",
       "    <tr>\n",
       "      <th>727</th>\n",
       "      <td>Very please with the purchase Overall phone is...</td>\n",
       "    </tr>\n",
       "    <tr>\n",
       "      <th>728</th>\n",
       "      <td>but without basic function \"call recording\".</td>\n",
       "    </tr>\n",
       "    <tr>\n",
       "      <th>729</th>\n",
       "      <td>How can one release without basic functions li...</td>\n",
       "    </tr>\n",
       "  </tbody>\n",
       "</table>\n",
       "<p>730 rows × 1 columns</p>\n",
       "</div>"
      ],
      "text/plain": [
       "                                              sentence\n",
       "0    Muy buen equipo, viene el cargador de corrient...\n",
       "1    This phone is amazing as far as the graphic de...\n",
       "2    It is fast enough that most users will not com...\n",
       "3              The camera is just as good as promoted.\n",
       "4    the overall experience so far (two weeks into ...\n",
       "..                                                 ...\n",
       "725   Good phone, good performance, good battery life.\n",
       "726                                Would recommend it.\n",
       "727  Very please with the purchase Overall phone is...\n",
       "728       but without basic function \"call recording\".\n",
       "729  How can one release without basic functions li...\n",
       "\n",
       "[730 rows x 1 columns]"
      ]
     },
     "execution_count": 31,
     "metadata": {},
     "output_type": "execute_result"
    }
   ],
   "source": [
    "df = pd.DataFrame(sentences, columns=['sentence'])\n",
    "df "
   ]
  },
  {
   "cell_type": "code",
   "execution_count": 33,
   "metadata": {
    "ExecuteTime": {
     "end_time": "2021-01-24T05:38:30.627559Z",
     "start_time": "2021-01-24T05:38:28.386431Z"
    }
   },
   "outputs": [],
   "source": [
    "affinity_scores = afinn.set_index('word')['value'].to_dict() \n",
    "nlp = spacy.load('en_core_web_sm')\n",
    "sentiment_lexicon = affinity_scores\n",
    "\n",
    "def calculate_sentiment(text: str = None):\n",
    "    sent_score = 0\n",
    "    if text:\n",
    "        sentence = nlp(text)\n",
    "        for word in sentence:\n",
    "            sent_score += sentiment_lexicon.get(word.lemma_, 0)\n",
    "    return sent_score "
   ]
  },
  {
   "cell_type": "code",
   "execution_count": 34,
   "metadata": {
    "ExecuteTime": {
     "end_time": "2021-01-24T05:38:44.069328Z",
     "start_time": "2021-01-24T05:38:43.388289Z"
    }
   },
   "outputs": [
    {
     "data": {
      "text/plain": [
       "4"
      ]
     },
     "execution_count": 34,
     "metadata": {},
     "output_type": "execute_result"
    }
   ],
   "source": [
    "calculate_sentiment(text = 'amazing') "
   ]
  },
  {
   "cell_type": "code",
   "execution_count": 37,
   "metadata": {
    "ExecuteTime": {
     "end_time": "2021-01-24T05:40:21.020873Z",
     "start_time": "2021-01-24T05:39:56.884493Z"
    }
   },
   "outputs": [],
   "source": [
    "df['sentiment_value'] = df['sentence'].apply(calculate_sentiment) "
   ]
  },
  {
   "cell_type": "code",
   "execution_count": 38,
   "metadata": {
    "ExecuteTime": {
     "end_time": "2021-01-24T05:40:23.133994Z",
     "start_time": "2021-01-24T05:40:23.105992Z"
    }
   },
   "outputs": [
    {
     "data": {
      "text/plain": [
       "0    21\n",
       "1    15\n",
       "2    31\n",
       "3     8\n",
       "4    12\n",
       "5    27\n",
       "6    26\n",
       "7    15\n",
       "8    20\n",
       "9     3\n",
       "Name: word_count, dtype: int64"
      ]
     },
     "execution_count": 38,
     "metadata": {},
     "output_type": "execute_result"
    }
   ],
   "source": [
    "df['word_count'] = df['sentence'].str.split().apply(len)\n",
    "df['word_count'].head(10) "
   ]
  },
  {
   "cell_type": "code",
   "execution_count": 39,
   "metadata": {
    "ExecuteTime": {
     "end_time": "2021-01-24T05:40:28.171282Z",
     "start_time": "2021-01-24T05:40:28.135280Z"
    }
   },
   "outputs": [
    {
     "data": {
      "text/html": [
       "<div>\n",
       "<style scoped>\n",
       "    .dataframe tbody tr th:only-of-type {\n",
       "        vertical-align: middle;\n",
       "    }\n",
       "\n",
       "    .dataframe tbody tr th {\n",
       "        vertical-align: top;\n",
       "    }\n",
       "\n",
       "    .dataframe thead th {\n",
       "        text-align: right;\n",
       "    }\n",
       "</style>\n",
       "<table border=\"1\" class=\"dataframe\">\n",
       "  <thead>\n",
       "    <tr style=\"text-align: right;\">\n",
       "      <th></th>\n",
       "      <th>sentence</th>\n",
       "      <th>sentiment_value</th>\n",
       "      <th>word_count</th>\n",
       "    </tr>\n",
       "  </thead>\n",
       "  <tbody>\n",
       "    <tr>\n",
       "      <th>0</th>\n",
       "      <td>Muy buen equipo, viene el cargador de corrient...</td>\n",
       "      <td>0</td>\n",
       "      <td>21</td>\n",
       "    </tr>\n",
       "    <tr>\n",
       "      <th>1</th>\n",
       "      <td>This phone is amazing as far as the graphic de...</td>\n",
       "      <td>4</td>\n",
       "      <td>15</td>\n",
       "    </tr>\n",
       "    <tr>\n",
       "      <th>2</th>\n",
       "      <td>It is fast enough that most users will not com...</td>\n",
       "      <td>-2</td>\n",
       "      <td>31</td>\n",
       "    </tr>\n",
       "    <tr>\n",
       "      <th>3</th>\n",
       "      <td>The camera is just as good as promoted.</td>\n",
       "      <td>4</td>\n",
       "      <td>8</td>\n",
       "    </tr>\n",
       "    <tr>\n",
       "      <th>4</th>\n",
       "      <td>the overall experience so far (two weeks into ...</td>\n",
       "      <td>0</td>\n",
       "      <td>12</td>\n",
       "    </tr>\n",
       "    <tr>\n",
       "      <th>...</th>\n",
       "      <td>...</td>\n",
       "      <td>...</td>\n",
       "      <td>...</td>\n",
       "    </tr>\n",
       "    <tr>\n",
       "      <th>725</th>\n",
       "      <td>Good phone, good performance, good battery life.</td>\n",
       "      <td>9</td>\n",
       "      <td>7</td>\n",
       "    </tr>\n",
       "    <tr>\n",
       "      <th>726</th>\n",
       "      <td>Would recommend it.</td>\n",
       "      <td>2</td>\n",
       "      <td>3</td>\n",
       "    </tr>\n",
       "    <tr>\n",
       "      <th>727</th>\n",
       "      <td>Very please with the purchase Overall phone is...</td>\n",
       "      <td>4</td>\n",
       "      <td>9</td>\n",
       "    </tr>\n",
       "    <tr>\n",
       "      <th>728</th>\n",
       "      <td>but without basic function \"call recording\".</td>\n",
       "      <td>0</td>\n",
       "      <td>6</td>\n",
       "    </tr>\n",
       "    <tr>\n",
       "      <th>729</th>\n",
       "      <td>How can one release without basic functions li...</td>\n",
       "      <td>0</td>\n",
       "      <td>14</td>\n",
       "    </tr>\n",
       "  </tbody>\n",
       "</table>\n",
       "<p>730 rows × 3 columns</p>\n",
       "</div>"
      ],
      "text/plain": [
       "                                              sentence  sentiment_value  \\\n",
       "0    Muy buen equipo, viene el cargador de corrient...                0   \n",
       "1    This phone is amazing as far as the graphic de...                4   \n",
       "2    It is fast enough that most users will not com...               -2   \n",
       "3              The camera is just as good as promoted.                4   \n",
       "4    the overall experience so far (two weeks into ...                0   \n",
       "..                                                 ...              ...   \n",
       "725   Good phone, good performance, good battery life.                9   \n",
       "726                                Would recommend it.                2   \n",
       "727  Very please with the purchase Overall phone is...                4   \n",
       "728       but without basic function \"call recording\".                0   \n",
       "729  How can one release without basic functions li...                0   \n",
       "\n",
       "     word_count  \n",
       "0            21  \n",
       "1            15  \n",
       "2            31  \n",
       "3             8  \n",
       "4            12  \n",
       "..          ...  \n",
       "725           7  \n",
       "726           3  \n",
       "727           9  \n",
       "728           6  \n",
       "729          14  \n",
       "\n",
       "[730 rows x 3 columns]"
      ]
     },
     "execution_count": 39,
     "metadata": {},
     "output_type": "execute_result"
    }
   ],
   "source": [
    "df "
   ]
  },
  {
   "cell_type": "code",
   "execution_count": 40,
   "metadata": {
    "ExecuteTime": {
     "end_time": "2021-01-24T05:40:53.819749Z",
     "start_time": "2021-01-24T05:40:53.791748Z"
    }
   },
   "outputs": [
    {
     "data": {
      "text/html": [
       "<div>\n",
       "<style scoped>\n",
       "    .dataframe tbody tr th:only-of-type {\n",
       "        vertical-align: middle;\n",
       "    }\n",
       "\n",
       "    .dataframe tbody tr th {\n",
       "        vertical-align: top;\n",
       "    }\n",
       "\n",
       "    .dataframe thead th {\n",
       "        text-align: right;\n",
       "    }\n",
       "</style>\n",
       "<table border=\"1\" class=\"dataframe\">\n",
       "  <thead>\n",
       "    <tr style=\"text-align: right;\">\n",
       "      <th></th>\n",
       "      <th>sentence</th>\n",
       "      <th>sentiment_value</th>\n",
       "      <th>word_count</th>\n",
       "    </tr>\n",
       "  </thead>\n",
       "  <tbody>\n",
       "    <tr>\n",
       "      <th>674</th>\n",
       "      <td>Good Great phone had to change my original rev...</td>\n",
       "      <td>10</td>\n",
       "      <td>38</td>\n",
       "    </tr>\n",
       "    <tr>\n",
       "      <th>343</th>\n",
       "      <td>Great fan of Xioami and this product just adds...</td>\n",
       "      <td>10</td>\n",
       "      <td>17</td>\n",
       "    </tr>\n",
       "    <tr>\n",
       "      <th>110</th>\n",
       "      <td>Great price for a incredible cell phone and wo...</td>\n",
       "      <td>11</td>\n",
       "      <td>19</td>\n",
       "    </tr>\n",
       "    <tr>\n",
       "      <th>425</th>\n",
       "      <td>For less than $250, I got a lightning fast, su...</td>\n",
       "      <td>12</td>\n",
       "      <td>21</td>\n",
       "    </tr>\n",
       "    <tr>\n",
       "      <th>569</th>\n",
       "      <td>Fast, Amazing camera and camera app, I in love...</td>\n",
       "      <td>13</td>\n",
       "      <td>27</td>\n",
       "    </tr>\n",
       "    <tr>\n",
       "      <th>558</th>\n",
       "      <td>Shear wastage of money Love it The phone itsel...</td>\n",
       "      <td>14</td>\n",
       "      <td>55</td>\n",
       "    </tr>\n",
       "    <tr>\n",
       "      <th>417</th>\n",
       "      <td>The phone is fast, holds charge pretty nicely ...</td>\n",
       "      <td>15</td>\n",
       "      <td>45</td>\n",
       "    </tr>\n",
       "    <tr>\n",
       "      <th>101</th>\n",
       "      <td>seller is not returning full amount and asking...</td>\n",
       "      <td>15</td>\n",
       "      <td>69</td>\n",
       "    </tr>\n",
       "    <tr>\n",
       "      <th>714</th>\n",
       "      <td>Loving the ips screen, and green color Great p...</td>\n",
       "      <td>15</td>\n",
       "      <td>23</td>\n",
       "    </tr>\n",
       "    <tr>\n",
       "      <th>169</th>\n",
       "      <td>She loved it, just got it cant say much about ...</td>\n",
       "      <td>17</td>\n",
       "      <td>69</td>\n",
       "    </tr>\n",
       "  </tbody>\n",
       "</table>\n",
       "</div>"
      ],
      "text/plain": [
       "                                              sentence  sentiment_value  \\\n",
       "674  Good Great phone had to change my original rev...               10   \n",
       "343  Great fan of Xioami and this product just adds...               10   \n",
       "110  Great price for a incredible cell phone and wo...               11   \n",
       "425  For less than $250, I got a lightning fast, su...               12   \n",
       "569  Fast, Amazing camera and camera app, I in love...               13   \n",
       "558  Shear wastage of money Love it The phone itsel...               14   \n",
       "417  The phone is fast, holds charge pretty nicely ...               15   \n",
       "101  seller is not returning full amount and asking...               15   \n",
       "714  Loving the ips screen, and green color Great p...               15   \n",
       "169  She loved it, just got it cant say much about ...               17   \n",
       "\n",
       "     word_count  \n",
       "674          38  \n",
       "343          17  \n",
       "110          19  \n",
       "425          21  \n",
       "569          27  \n",
       "558          55  \n",
       "417          45  \n",
       "101          69  \n",
       "714          23  \n",
       "169          69  "
      ]
     },
     "execution_count": 40,
     "metadata": {},
     "output_type": "execute_result"
    }
   ],
   "source": [
    "df.sort_values(by='sentiment_value').tail(10) "
   ]
  },
  {
   "cell_type": "code",
   "execution_count": 41,
   "metadata": {
    "ExecuteTime": {
     "end_time": "2021-01-24T05:41:16.026019Z",
     "start_time": "2021-01-24T05:41:16.004018Z"
    }
   },
   "outputs": [
    {
     "data": {
      "text/plain": [
       "count    730.000000\n",
       "mean       1.165753\n",
       "std        2.816993\n",
       "min       -8.000000\n",
       "25%        0.000000\n",
       "50%        0.000000\n",
       "75%        3.000000\n",
       "max       17.000000\n",
       "Name: sentiment_value, dtype: float64"
      ]
     },
     "execution_count": 41,
     "metadata": {},
     "output_type": "execute_result"
    }
   ],
   "source": [
    "df['sentiment_value'].describe() "
   ]
  },
  {
   "cell_type": "code",
   "execution_count": 43,
   "metadata": {
    "ExecuteTime": {
     "end_time": "2021-01-24T05:41:44.049622Z",
     "start_time": "2021-01-24T05:41:44.016620Z"
    }
   },
   "outputs": [
    {
     "data": {
      "text/html": [
       "<div>\n",
       "<style scoped>\n",
       "    .dataframe tbody tr th:only-of-type {\n",
       "        vertical-align: middle;\n",
       "    }\n",
       "\n",
       "    .dataframe tbody tr th {\n",
       "        vertical-align: top;\n",
       "    }\n",
       "\n",
       "    .dataframe thead th {\n",
       "        text-align: right;\n",
       "    }\n",
       "</style>\n",
       "<table border=\"1\" class=\"dataframe\">\n",
       "  <thead>\n",
       "    <tr style=\"text-align: right;\">\n",
       "      <th></th>\n",
       "      <th>sentence</th>\n",
       "      <th>sentiment_value</th>\n",
       "      <th>word_count</th>\n",
       "    </tr>\n",
       "  </thead>\n",
       "  <tbody>\n",
       "    <tr>\n",
       "      <th>0</th>\n",
       "      <td>Muy buen equipo, viene el cargador de corrient...</td>\n",
       "      <td>0</td>\n",
       "      <td>21</td>\n",
       "    </tr>\n",
       "    <tr>\n",
       "      <th>2</th>\n",
       "      <td>It is fast enough that most users will not com...</td>\n",
       "      <td>-2</td>\n",
       "      <td>31</td>\n",
       "    </tr>\n",
       "    <tr>\n",
       "      <th>4</th>\n",
       "      <td>the overall experience so far (two weeks into ...</td>\n",
       "      <td>0</td>\n",
       "      <td>12</td>\n",
       "    </tr>\n",
       "    <tr>\n",
       "      <th>6</th>\n",
       "      <td>I just found out that although the Redmi LTE i...</td>\n",
       "      <td>0</td>\n",
       "      <td>26</td>\n",
       "    </tr>\n",
       "    <tr>\n",
       "      <th>7</th>\n",
       "      <td>So I can't use the phone's full capacity with ...</td>\n",
       "      <td>0</td>\n",
       "      <td>15</td>\n",
       "    </tr>\n",
       "    <tr>\n",
       "      <th>...</th>\n",
       "      <td>...</td>\n",
       "      <td>...</td>\n",
       "      <td>...</td>\n",
       "    </tr>\n",
       "    <tr>\n",
       "      <th>722</th>\n",
       "      <td>And it hasn’t lagged ever since I got it.</td>\n",
       "      <td>-1</td>\n",
       "      <td>9</td>\n",
       "    </tr>\n",
       "    <tr>\n",
       "      <th>723</th>\n",
       "      <td>You can change the notch setting so you won’t ...</td>\n",
       "      <td>0</td>\n",
       "      <td>15</td>\n",
       "    </tr>\n",
       "    <tr>\n",
       "      <th>724</th>\n",
       "      <td>Nothing else to say.</td>\n",
       "      <td>0</td>\n",
       "      <td>4</td>\n",
       "    </tr>\n",
       "    <tr>\n",
       "      <th>728</th>\n",
       "      <td>but without basic function \"call recording\".</td>\n",
       "      <td>0</td>\n",
       "      <td>6</td>\n",
       "    </tr>\n",
       "    <tr>\n",
       "      <th>729</th>\n",
       "      <td>How can one release without basic functions li...</td>\n",
       "      <td>0</td>\n",
       "      <td>14</td>\n",
       "    </tr>\n",
       "  </tbody>\n",
       "</table>\n",
       "<p>420 rows × 3 columns</p>\n",
       "</div>"
      ],
      "text/plain": [
       "                                              sentence  sentiment_value  \\\n",
       "0    Muy buen equipo, viene el cargador de corrient...                0   \n",
       "2    It is fast enough that most users will not com...               -2   \n",
       "4    the overall experience so far (two weeks into ...                0   \n",
       "6    I just found out that although the Redmi LTE i...                0   \n",
       "7    So I can't use the phone's full capacity with ...                0   \n",
       "..                                                 ...              ...   \n",
       "722          And it hasn’t lagged ever since I got it.               -1   \n",
       "723  You can change the notch setting so you won’t ...                0   \n",
       "724                               Nothing else to say.                0   \n",
       "728       but without basic function \"call recording\".                0   \n",
       "729  How can one release without basic functions li...                0   \n",
       "\n",
       "     word_count  \n",
       "0            21  \n",
       "2            31  \n",
       "4            12  \n",
       "6            26  \n",
       "7            15  \n",
       "..          ...  \n",
       "722           9  \n",
       "723          15  \n",
       "724           4  \n",
       "728           6  \n",
       "729          14  \n",
       "\n",
       "[420 rows x 3 columns]"
      ]
     },
     "execution_count": 43,
     "metadata": {},
     "output_type": "execute_result"
    }
   ],
   "source": [
    "df[df['sentiment_value']<=0] "
   ]
  },
  {
   "cell_type": "code",
   "execution_count": 44,
   "metadata": {
    "ExecuteTime": {
     "end_time": "2021-01-24T05:42:14.069339Z",
     "start_time": "2021-01-24T05:42:14.038337Z"
    }
   },
   "outputs": [
    {
     "data": {
      "text/html": [
       "<div>\n",
       "<style scoped>\n",
       "    .dataframe tbody tr th:only-of-type {\n",
       "        vertical-align: middle;\n",
       "    }\n",
       "\n",
       "    .dataframe tbody tr th {\n",
       "        vertical-align: top;\n",
       "    }\n",
       "\n",
       "    .dataframe thead th {\n",
       "        text-align: right;\n",
       "    }\n",
       "</style>\n",
       "<table border=\"1\" class=\"dataframe\">\n",
       "  <thead>\n",
       "    <tr style=\"text-align: right;\">\n",
       "      <th></th>\n",
       "      <th>sentence</th>\n",
       "      <th>sentiment_value</th>\n",
       "      <th>word_count</th>\n",
       "    </tr>\n",
       "  </thead>\n",
       "  <tbody>\n",
       "    <tr>\n",
       "      <th>101</th>\n",
       "      <td>seller is not returning full amount and asking...</td>\n",
       "      <td>15</td>\n",
       "      <td>69</td>\n",
       "    </tr>\n",
       "    <tr>\n",
       "      <th>110</th>\n",
       "      <td>Great price for a incredible cell phone and wo...</td>\n",
       "      <td>11</td>\n",
       "      <td>19</td>\n",
       "    </tr>\n",
       "    <tr>\n",
       "      <th>169</th>\n",
       "      <td>She loved it, just got it cant say much about ...</td>\n",
       "      <td>17</td>\n",
       "      <td>69</td>\n",
       "    </tr>\n",
       "    <tr>\n",
       "      <th>307</th>\n",
       "      <td>I previously had a Mi A3, it was an awesome An...</td>\n",
       "      <td>10</td>\n",
       "      <td>29</td>\n",
       "    </tr>\n",
       "    <tr>\n",
       "      <th>343</th>\n",
       "      <td>Great fan of Xioami and this product just adds...</td>\n",
       "      <td>10</td>\n",
       "      <td>17</td>\n",
       "    </tr>\n",
       "    <tr>\n",
       "      <th>417</th>\n",
       "      <td>The phone is fast, holds charge pretty nicely ...</td>\n",
       "      <td>15</td>\n",
       "      <td>45</td>\n",
       "    </tr>\n",
       "    <tr>\n",
       "      <th>425</th>\n",
       "      <td>For less than $250, I got a lightning fast, su...</td>\n",
       "      <td>12</td>\n",
       "      <td>21</td>\n",
       "    </tr>\n",
       "    <tr>\n",
       "      <th>558</th>\n",
       "      <td>Shear wastage of money Love it The phone itsel...</td>\n",
       "      <td>14</td>\n",
       "      <td>55</td>\n",
       "    </tr>\n",
       "    <tr>\n",
       "      <th>569</th>\n",
       "      <td>Fast, Amazing camera and camera app, I in love...</td>\n",
       "      <td>13</td>\n",
       "      <td>27</td>\n",
       "    </tr>\n",
       "    <tr>\n",
       "      <th>674</th>\n",
       "      <td>Good Great phone had to change my original rev...</td>\n",
       "      <td>10</td>\n",
       "      <td>38</td>\n",
       "    </tr>\n",
       "    <tr>\n",
       "      <th>714</th>\n",
       "      <td>Loving the ips screen, and green color Great p...</td>\n",
       "      <td>15</td>\n",
       "      <td>23</td>\n",
       "    </tr>\n",
       "  </tbody>\n",
       "</table>\n",
       "</div>"
      ],
      "text/plain": [
       "                                              sentence  sentiment_value  \\\n",
       "101  seller is not returning full amount and asking...               15   \n",
       "110  Great price for a incredible cell phone and wo...               11   \n",
       "169  She loved it, just got it cant say much about ...               17   \n",
       "307  I previously had a Mi A3, it was an awesome An...               10   \n",
       "343  Great fan of Xioami and this product just adds...               10   \n",
       "417  The phone is fast, holds charge pretty nicely ...               15   \n",
       "425  For less than $250, I got a lightning fast, su...               12   \n",
       "558  Shear wastage of money Love it The phone itsel...               14   \n",
       "569  Fast, Amazing camera and camera app, I in love...               13   \n",
       "674  Good Great phone had to change my original rev...               10   \n",
       "714  Loving the ips screen, and green color Great p...               15   \n",
       "\n",
       "     word_count  \n",
       "101          69  \n",
       "110          19  \n",
       "169          69  \n",
       "307          29  \n",
       "343          17  \n",
       "417          45  \n",
       "425          21  \n",
       "558          55  \n",
       "569          27  \n",
       "674          38  \n",
       "714          23  "
      ]
     },
     "execution_count": 44,
     "metadata": {},
     "output_type": "execute_result"
    }
   ],
   "source": [
    "df[df['sentiment_value']>=10] "
   ]
  },
  {
   "cell_type": "code",
   "execution_count": 45,
   "metadata": {
    "ExecuteTime": {
     "end_time": "2021-01-24T05:42:35.678575Z",
     "start_time": "2021-01-24T05:42:35.666574Z"
    }
   },
   "outputs": [],
   "source": [
    "df['index']=range(0,len(df)) "
   ]
  },
  {
   "cell_type": "code",
   "execution_count": 73,
   "metadata": {
    "ExecuteTime": {
     "end_time": "2021-01-24T06:45:08.572996Z",
     "start_time": "2021-01-24T06:45:08.026786Z"
    }
   },
   "outputs": [
    {
     "data": {
      "text/plain": [
       "<matplotlib.axes._subplots.AxesSubplot at 0x3abc76a0>"
      ]
     },
     "execution_count": 73,
     "metadata": {},
     "output_type": "execute_result"
    },
    {
     "data": {
      "image/png": "[encoded data removed]",
      "text/plain": [
       "<Figure size 432x288 with 1 Axes>"
      ]
     },
     "metadata": {
      "needs_background": "light"
     },
     "output_type": "display_data"
    }
   ],
   "source": [
    "import seaborn as sns\n",
    "import matplotlib.pyplot as plt\n",
    "sns.set_color_codes(\"dark\")\n",
    "sns.distplot(df['sentiment_value'],color='g')"
   ]
  },
  {
   "cell_type": "code",
   "execution_count": 74,
   "metadata": {
    "ExecuteTime": {
     "end_time": "2021-01-24T06:45:21.054450Z",
     "start_time": "2021-01-24T06:45:20.097448Z"
    }
   },
   "outputs": [
    {
     "data": {
      "text/plain": [
       "<matplotlib.axes._subplots.AxesSubplot at 0x3aef8d60>"
      ]
     },
     "execution_count": 74,
     "metadata": {},
     "output_type": "execute_result"
    },
    {
     "data": {
      "image/png": "[encoded data removed]",
      "text/plain": [
       "<Figure size 1080x720 with 1 Axes>"
      ]
     },
     "metadata": {
      "needs_background": "light"
     },
     "output_type": "display_data"
    }
   ],
   "source": [
    "plt.figure(figsize=(15, 10))\n",
    "sns.lineplot(y='sentiment_value',x='index',data=df,color='c') "
   ]
  },
  {
   "cell_type": "code",
   "execution_count": 76,
   "metadata": {
    "ExecuteTime": {
     "end_time": "2021-01-24T06:45:30.283297Z",
     "start_time": "2021-01-24T06:45:29.730697Z"
    }
   },
   "outputs": [
    {
     "data": {
      "text/plain": [
       "<matplotlib.axes._subplots.AxesSubplot at 0x3b082430>"
      ]
     },
     "execution_count": 76,
     "metadata": {},
     "output_type": "execute_result"
    },
    {
     "data": {
      "image/png": "[encoded data removed]",
      "text/plain": [
       "<Figure size 576x576 with 1 Axes>"
      ]
     },
     "metadata": {
      "needs_background": "light"
     },
     "output_type": "display_data"
    }
   ],
   "source": [
    "df.plot.scatter(x='word_count', y='sentiment_value', figsize=(8,8), title='Sentence sentiment value to sentence word count',color='m')"
   ]
  }
 ],
 "metadata": {
  "kernelspec": {
   "display_name": "Python 3",
   "language": "python",
   "name": "python3"
  },
  "language_info": {
   "codemirror_mode": {
    "name": "ipython",
    "version": 3
   },
   "file_extension": ".py",
   "mimetype": "text/x-python",
   "name": "python",
   "nbconvert_exporter": "python",
   "pygments_lexer": "ipython3",
   "version": "3.8.3"
  },
  "toc": {
   "base_numbering": 1,
   "nav_menu": {},
   "number_sections": true,
   "sideBar": true,
   "skip_h1_title": false,
   "title_cell": "Table of Contents",
   "title_sidebar": "Contents",
   "toc_cell": false,
   "toc_position": {},
   "toc_section_display": true,
   "toc_window_display": false
  },
  "varInspector": {
   "cols": {
    "lenName": 16,
    "lenType": 16,
    "lenVar": 40
   },
   "kernels_config": {
    "python": {
     "delete_cmd_postfix": "",
     "delete_cmd_prefix": "del ",
     "library": "var_list.py",
     "varRefreshCmd": "print(var_dic_list())"
    },
    "r": {
     "delete_cmd_postfix": ") ",
     "delete_cmd_prefix": "rm(",
     "library": "var_list.r",
     "varRefreshCmd": "cat(var_dic_list()) "
    }
   },
   "types_to_exclude": [
    "module",
    "function",
    "builtin_function_or_method",
    "instance",
    "_Feature"
   ],
   "window_display": false
  }
 },
 "nbformat": 4,
 "nbformat_minor": 4
}
